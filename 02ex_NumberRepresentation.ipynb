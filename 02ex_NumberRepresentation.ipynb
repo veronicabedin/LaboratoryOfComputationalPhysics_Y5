{
 "cells": [
  {
   "cell_type": "markdown",
   "metadata": {},
   "source": [
    "1\\. Write a function that converts number representation, bin<->dec<->hex. (Clearly using the corresponding python built-in functions is not fair..)"
   ]
  },
  {
   "cell_type": "code",
   "execution_count": 1,
   "metadata": {},
   "outputs": [
    {
     "name": "stdout",
     "output_type": "stream",
     "text": [
      "Number type: dec, hex, bin\n",
      "dec\n",
      "Convert to type: dec, hex, bin\n",
      "bin\n",
      "Insert number\n",
      "4590\n"
     ]
    }
   ],
   "source": [
    "import sys\n",
    "import numpy as np \n",
    "\n",
    "def convert(list):\n",
    "     \n",
    "    # Converting integer list to string list\n",
    "    # and joining the list using join()\n",
    "    res = int(\"\".join(map(str, list)))\n",
    "     \n",
    "    return res\n",
    "\n",
    "print(\"Number type: dec, hex, bin\")\n",
    "first=str(input())\n",
    "print(\"Convert to type: dec, hex, bin\")\n",
    "second=str(input())\n",
    "#need for different type of data when dealing with binary and decimal vs. hex\n",
    "if (first!=\"hex\"):\n",
    "    print(\"Insert number\")\n",
    "    a=int(input())\n",
    "else:\n",
    "    print(\"Insert number\")\n",
    "    a=input()\n",
    "\n",
    "alph=[\"A\",\"B\",\"C\",\"D\",\"E\",\"F\"]\n",
    "\n",
    "def conversion(a, first, second):\n",
    "    result=[]\n",
    "    if(first==\"dec\"):\n",
    "        if(second==\"hex\"):\n",
    "            while a!=0:\n",
    "                result.append(a%16)\n",
    "                a=a//16\n",
    "            result=result[::-1]\n",
    "            for x in range(len(result)):\n",
    "                if (result[x]>9):\n",
    "                    t=55+result[x]\n",
    "                    result[x]=chr(t)\n",
    "            print(\"From dec to hex: \", result)\n",
    "            return result\n",
    "        elif(second==\"bin\"):\n",
    "            while a!=0:\n",
    "                result.append(a%2)\n",
    "                a=a//2\n",
    "            result=result[::-1]\n",
    "            result=convert(result)\n",
    "            print(\"From dec to bin: \", result)\n",
    "            return result\n",
    "    elif(first==\"bin\"):\n",
    "        if (second==\"hex\"):\n",
    "            temp=\"dec\"\n",
    "            result=conversion(a,first, temp)\n",
    "            result=conversion(result,temp,second)\n",
    "            return result\n",
    "        elif(second==\"dec\"):\n",
    "            t=0\n",
    "            a=str(a)\n",
    "            a=a[::-1]\n",
    "            for x in range(len(a)):\n",
    "                t=t+(int(a[x])*(pow(2,x)))\n",
    "            print(\"From bin to dec: \", t)\n",
    "            return t\n",
    "    elif(first==\"hex\"):\n",
    "        if (second==\"bin\"):\n",
    "            temp=\"dec\"\n",
    "            result=conversion(a,first, temp)\n",
    "            result=conversion(result,temp, second)\n",
    "            return result\n",
    "        elif (second==\"dec\"):\n",
    "            result=list(a)\n",
    "            t=0\n",
    "            for x in range(len(result)):\n",
    "                for ele in alph:\n",
    "                    t_he=0\n",
    "                    if ele==result[x]:\n",
    "                        t_he=ord(ele)\n",
    "                        result[x]=t_he-55\n",
    "                print(result[x])\n",
    "            result=result[::1]\n",
    "            for x in range(len(result)):\n",
    "                t+=int(result[x])*(pow(16,x))\n",
    "               \n",
    "            print(\"From hex to dec: \", t)\n",
    "            return t\n",
    "\n",
    "            \n",
    "\n",
    "#result=conversion(a,first,second)        \n",
    "   "
   ]
  },
  {
   "cell_type": "markdown",
   "metadata": {},
   "source": [
    "2\\. Write a function that converts a 32 bit word into a single precision floating point (i.e. interprets the various bits as sign, mantissa and exponent)"
   ]
  },
  {
   "cell_type": "code",
   "execution_count": 2,
   "metadata": {},
   "outputs": [
    {
     "name": "stdout",
     "output_type": "stream",
     "text": [
      "Insert 32 bit (0/1)\n",
      "11100000011111101010101010111101\n",
      "check right lenght: 32\n",
      "sign negative\n",
      "exp bin: 11000000\n",
      "From bin to dec:  192\n",
      "right exp (exp-127):  65\n",
      "mantissa bin: 11111101010101010111101\n",
      "mantissa dec: 1.989585518836975\n",
      "-7.340274975748863e+19\n"
     ]
    }
   ],
   "source": [
    "print(\"Insert 32 bit (0/1)\")\n",
    "x=input()\n",
    "print(\"check right lenght:\", len(x))\n",
    "#first bit:sign\n",
    "if int(x[0])==0:\n",
    "    sgn=1\n",
    "    print(\"sign positive\")\n",
    "else:\n",
    "    sgn=-1\n",
    "    print(\"sign negative\")\n",
    "    \n",
    "#bit 1-8 exponent, remember 2^exp, exp=exp-127\n",
    "exp=x[1:9]\n",
    "print(\"exp bin:\",exp)\n",
    "exp=conversion(exp,\"bin\",\"dec\")\n",
    "exp=exp-127\n",
    "print(\"right exp (exp-127): \",exp)\n",
    "\n",
    "#bit 9-32 mantissa. every number of the mantissa is multiplied by 2^(-position-1) \n",
    "mantissa=x[9:32]\n",
    "print(\"mantissa bin:\",mantissa)\n",
    "mantissa=str(mantissa)\n",
    "fraction=1\n",
    "for x in range(len(mantissa)):\n",
    "    fraction=fraction+(int(mantissa[x])*(pow(2,-x-1)))\n",
    "print(\"mantissa dec:\",fraction)\n",
    "\n",
    "#float=sgn*fraction*2^exp\n",
    "number=sgn*fraction*2**exp\n",
    "print(number)\n"
   ]
  },
  {
   "cell_type": "markdown",
   "metadata": {},
   "source": [
    "3\\. Write a program to determine the underflow and overflow limits (within a factor of 2) for python on your computer. \n",
    "\n",
    "**Tips**: define two variables inizialized to 1 and halve/double them enough time to exceed the under/over-flow limits  "
   ]
  },
  {
   "cell_type": "code",
   "execution_count": 3,
   "metadata": {},
   "outputs": [
    {
     "name": "stdout",
     "output_type": "stream",
     "text": [
      "underflow : 5e-324\n",
      "overflow 1.1235582092889474e+308\n"
     ]
    }
   ],
   "source": [
    "under=1\n",
    "temp_u=0\n",
    "temp_o=3.5\n",
    "a=1\n",
    "over=2*temp_o-2*a\n",
    "while under!=0:\n",
    "    temp_u=under\n",
    "    under=under/2\n",
    "    if under==0:\n",
    "        print(\"underflow :\", temp_u)\n",
    "\n",
    "while over!=float(\"inf\"):\n",
    "    temp=over\n",
    "    over=over*2\n",
    "      \n",
    "\n",
    "print(\"overflow\", temp)"
   ]
  },
  {
   "cell_type": "markdown",
   "metadata": {},
   "source": [
    "4\\. Write a program to determine the machine precision\n",
    "\n",
    "**Tips**: define a new variable by adding a smaller and smaller value (proceeding similarly to prob. 2) to an original variable and check the point where the two are the same "
   ]
  },
  {
   "cell_type": "code",
   "execution_count": 4,
   "metadata": {},
   "outputs": [
    {
     "name": "stdout",
     "output_type": "stream",
     "text": [
      "6.106226635438361e-17\n"
     ]
    }
   ],
   "source": [
    "small=1.1\n",
    "val=1.5\n",
    "#make small variable smaller until the difference between val and val+small is seen as =0 by the calculator\n",
    "while val!=val+small:\n",
    "    small=small/2\n",
    "print(small)"
   ]
  },
  {
   "cell_type": "markdown",
   "metadata": {},
   "source": [
    "5\\. Write a function that takes in input three parameters $a$, $b$ and $c$ and prints out the two solutions to the quadratic equation $ax^2+bx+c=0$ using the standard formula:\n",
    "$$\n",
    "x=\\frac{-b\\pm\\sqrt{b^2-4ac}}{2a}\n",
    "$$\n",
    "\n",
    "(a) use the program to compute the solution for $a=0.001$, $b=1000$ and $c=0.001$\n",
    "\n",
    "(b) re-express the standard solution formula by multiplying top and bottom by $-b\\mp\\sqrt{b^2-4ac}$ and again find the solution for $a=0.001$, $b=1000$ and $c=0.001$. How does it compare with what previously obtained? Why?\n",
    "\n",
    "(c) write a function that compute the roots of a quadratic equation accurately in all cases"
   ]
  },
  {
   "cell_type": "code",
   "execution_count": 6,
   "metadata": {},
   "outputs": [
    {
     "name": "stdout",
     "output_type": "stream",
     "text": [
      "Insert a,b,c, being ax^2+bx+c=0\n",
      "0.001\n",
      "1000\n",
      "0.001\n",
      "0.001 1000.0 0.001 <class 'float'>\n",
      "best case scenario: x_1:  -999999.999999 x_2: -1.000000000001e-06\n",
      "standard solution:  x_1: -9.999894245993346e-07 x_2: -999999.999999\n",
      "multiply solution:  x_1: -1.000000000001e-06 x_2: -1000010.5755125057\n"
     ]
    }
   ],
   "source": [
    "from math import sqrt \n",
    "print(\"Insert a,b,c, being ax^2+bx+c=0\")\n",
    "a=float(input())\n",
    "b=float(input())\n",
    "c=float(input())\n",
    "print(a,b,c,type(a))\n",
    "\n",
    "def sign(number): \n",
    "    \"\"\"Will return 1 for positive, \n",
    "    -1 for negative, and 0 for 0\"\"\" \n",
    "    try:return number/abs(number) \n",
    "    except ZeroDivisionError:return 0 \n",
    "    \n",
    "def standard(a,b,c):\n",
    "    \n",
    "    x_1=(-b+sqrt(b**2-(4*a*c)))/(2*a)\n",
    "    x_2=(-b-sqrt(b**2-(4*a*c)))/(2*a)\n",
    "    return x_1,x_2\n",
    "\n",
    "def multiply(a,b,c):\n",
    "    delta=sqrt(b**2-(4*a*c))\n",
    "    x_1=(2*c)/(-b-sqrt(b**2-(4*a*c)))\n",
    "    x_2=(2*c)/(-b+sqrt(b**2-(4*a*c)))\n",
    "    return x_1,x_2\n",
    "\n",
    "def all_cases(a,b,c):\n",
    "    if a!=0:\n",
    "        x_1=(-b-sign(b)*sqrt(b**2-(4*a*c)))/(2*a)\n",
    "        x_2=c/(a*x_1)\n",
    "        print(\"best case scenario: x_1: \", x_1, \"x_2:\" , x_2)\n",
    "    else:\n",
    "        x_1=x_2=-c/b\n",
    "        print(\"best case scenario: x_1=x_2: \", x_1)\n",
    "    return x_1,x_2\n",
    "\n",
    "x_1,x_2=standard(a,b,c)\n",
    "m_1,m_2=multiply(a,b,c)\n",
    "b_1,b_2=all_cases(a,b,c)\n",
    "print(\"standard solution: \", \"x_1:\",x_1,\"x_2:\", x_2)\n",
    "print(\"multiply solution: \", \"x_1:\",m_1,\"x_2:\", m_2)\n",
    "\n",
    "#ancora dubbi su cosa intenda per il terzo modo"
   ]
  },
  {
   "cell_type": "markdown",
   "metadata": {},
   "source": [
    "6\\. Write a program that implements the function $f(x)=x(x−1)$\n",
    "\n",
    "(a) Calculate the derivative of the function at the point $x = 1$ using the derivative definition:\n",
    "\n",
    "$$\n",
    "\\frac{{\\rm d}f}{{\\rm d}x} = \\lim_{\\delta\\to0} \\frac{f(x+\\delta)-f(x)}{\\delta}\n",
    "$$\n",
    "\n",
    "with $\\delta = 10^{−2}$. Calculate the true value of the same derivative analytically and compare with the answer your program gives. The two will not agree perfectly. Why not?\n",
    "\n",
    "(b) Repeat the calculation for $\\delta = 10^{−4}, 10^{−6}, 10^{−8}, 10^{−10}, 10^{−12}$ and $10^{−14}$. How does the accuracy scales with $\\delta$?"
   ]
  },
  {
   "cell_type": "code",
   "execution_count": 7,
   "metadata": {},
   "outputs": [
    {
     "name": "stdout",
     "output_type": "stream",
     "text": [
      "calculated lim: 0.9992007221626509 real lim:  1.0 difference:  -0.0007992778373491216\n"
     ]
    }
   ],
   "source": [
    "def der(x,delta):\n",
    "    lim=(((x+delta)*(x+delta-1))-(x*(x-1)))/delta\n",
    "    return lim\n",
    "\n",
    "delta=1e-14\n",
    "x=1.0\n",
    "real=1.0\n",
    "lim=der(x,delta)\n",
    "print(\"calculated lim:\",lim, \"real lim: \", real, \"difference: \", lim-real)\n",
    "#the accuracy scales as delta until 10^-8, but after 10^-10 it grows again"
   ]
  },
  {
   "cell_type": "markdown",
   "metadata": {},
   "source": [
    "7\\. Consider the integral of the semicircle of radius 1:\n",
    "$$\n",
    "I=\\int_{-1}^{1} \\sqrt(1-x^2) {\\rm d}x\n",
    "$$\n",
    "which it's known to be $I=\\frac{\\pi}{2}=1.57079632679...$.\n",
    "Alternatively we can use the Riemann definition of the integral:\n",
    "$$\n",
    "I=\\lim_{N\\to\\infty} \\sum_{k=1}^{N} h y_k \n",
    "$$\n",
    "\n",
    "with $h=2/N$ the width of each of the $N$ slices the domain is divided into and where\n",
    "$y_k$ is the value of the function at the $k-$th slice.\n",
    "\n",
    "(a) Write a programe to compute the integral with $N=100$. How does the result compares to the true value?\n",
    "\n",
    "(b) How much can $N$ be increased if the computation needs to be run in less than a second? What is the gain in running it for 1 minute? \n"
   ]
  },
  {
   "cell_type": "code",
   "execution_count": 2,
   "metadata": {},
   "outputs": [
    {
     "name": "stdout",
     "output_type": "stream",
     "text": [
      "Integral value:  1.5707963267423612\n"
     ]
    }
   ],
   "source": [
    "from math import sqrt\n",
    "lim_1=-1\n",
    "lim_2=1\n",
    "N=10000000\n",
    "interval=abs(lim_1-lim_2)\n",
    "h=interval/N\n",
    "div_int=[]\n",
    "for i in range(N):\n",
    "    div_int.append(lim_1+i*h)\n",
    "\n",
    "\n",
    "\n",
    "def Riemann(N):\n",
    "    integral=0\n",
    "    for i in range (N):\n",
    "        integral+=h*sqrt(1-pow(div_int[i],2))\n",
    "    return integral\n",
    "    \n",
    "print(\"Integral value: \", Riemann(N))        "
   ]
  },
  {
   "cell_type": "code",
   "execution_count": null,
   "metadata": {},
   "outputs": [],
   "source": []
  }
 ],
 "metadata": {
  "kernelspec": {
   "display_name": "Python 3 (ipykernel)",
   "language": "python",
   "name": "python3"
  },
  "language_info": {
   "codemirror_mode": {
    "name": "ipython",
    "version": 3
   },
   "file_extension": ".py",
   "mimetype": "text/x-python",
   "name": "python",
   "nbconvert_exporter": "python",
   "pygments_lexer": "ipython3",
   "version": "3.10.6"
  }
 },
 "nbformat": 4,
 "nbformat_minor": 2
}
