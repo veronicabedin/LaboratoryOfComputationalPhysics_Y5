{
 "cells": [
  {
   "cell_type": "markdown",
   "metadata": {},
   "source": [
    "0\\. Implement a function (whatever you want) and save it to a file (e.g. `function.py`). Import that file and use that function in this notebook.\n"
   ]
  },
  {
   "cell_type": "code",
   "execution_count": 12,
   "metadata": {},
   "outputs": [],
   "source": [
    "from function import f\n"
   ]
  },
  {
   "cell_type": "markdown",
   "metadata": {},
   "source": [
    "1\\. Write the following as a list comprehension"
   ]
  },
  {
   "cell_type": "code",
   "execution_count": 22,
   "metadata": {},
   "outputs": [
    {
     "name": "stdout",
     "output_type": "stream",
     "text": [
      "([0, 1, 2], [0, 1, 2, 3])\n",
      "[0, 4, 16]\n",
      "[0, 4, 16]\n"
     ]
    }
   ],
   "source": [
    "# 1\n",
    "\n",
    "ans= ([x for x in range(3)],[y for y in range(4)])\n",
    "\n",
    "print (ans)\n",
    "\n",
    "# 2\n",
    "#cosa devo farci?\n",
    "ans = map(lambda x: x*x, filter(lambda x: x%2 == 0, range(5)))\n",
    "print (list(ans))\n",
    "\n",
    "\n",
    "ans=[x*x for x in range(5) if x%2==0]\n",
    "print(list(ans))"
   ]
  },
  {
   "cell_type": "markdown",
   "metadata": {},
   "source": [
    "2\\. Convert the following function into a pure function with no global variables or side effects"
   ]
  },
  {
   "cell_type": "code",
   "execution_count": 29,
   "metadata": {},
   "outputs": [
    {
     "name": "stdout",
     "output_type": "stream",
     "text": [
      "[1, 2, 3, 0, 1, 2, 3, 4]\n",
      "[1, 2, 3]\n",
      "[1, 2, 3, 0, 1, 2, 3, 4]\n",
      "[1, 2, 3, 0, 1, 2, 3, 4]\n"
     ]
    }
   ],
   "source": [
    "x = 5\n",
    "def f(alist):\n",
    "    for i in range(x):\n",
    "         alist.append(i)\n",
    "    return alist\n",
    "\n",
    "alist = [1,2,3]\n",
    "ans=f(alist)\n",
    "print (ans)\n",
    "print (alist) # alist has been changed!\n",
    "\n",
    "#my_version\n",
    "\n",
    "def f(alist):\n",
    "    a=[]\n",
    "    a+=alist\n",
    "    for i in range(5):\n",
    "         a.append(i)\n",
    "    return a\n",
    "\n",
    "alist = [1,2,3]\n",
    "ans=f(alist)\n",
    "print (ans)\n",
    "print (alist) # alist has been changed!"
   ]
  },
  {
   "cell_type": "markdown",
   "metadata": {},
   "source": [
    "3\\. Write a `decorator` hello that makes every wrapped function print “Hello!”, i.e. something like:\n",
    "\n",
    "```python\n",
    "@hello\n",
    "def square(x):\n",
    "    return x*x\n",
    "```\n",
    "\n"
   ]
  },
  {
   "cell_type": "code",
   "execution_count": 39,
   "metadata": {},
   "outputs": [],
   "source": [
    "def hello(func):\n",
    "    def wrapper(x):\n",
    "        print(\"Hello!\")\n",
    "        func(x)\n",
    "        print(\"Hello!\")\n",
    "    return wrapper\n",
    "\n",
    "@hello\n",
    "def square(x):\n",
    "    return x*x"
   ]
  },
  {
   "cell_type": "code",
   "execution_count": 40,
   "metadata": {},
   "outputs": [
    {
     "name": "stdout",
     "output_type": "stream",
     "text": [
      "Hello!\n",
      "Hello!\n"
     ]
    }
   ],
   "source": [
    "x=2\n",
    "y=square(x)"
   ]
  },
  {
   "cell_type": "markdown",
   "metadata": {},
   "source": [
    "4\\. Write the factorial function so that it a) does and b) does not use recursion."
   ]
  },
  {
   "cell_type": "code",
   "execution_count": 49,
   "metadata": {},
   "outputs": [
    {
     "name": "stdout",
     "output_type": "stream",
     "text": [
      "24\n",
      "720\n"
     ]
    }
   ],
   "source": [
    "#use recursion\n",
    "def fact_r(x):\n",
    "    if(x!=1):\n",
    "        return x*fact_r(x-1)\n",
    "    elif(x==0):\n",
    "        return 1\n",
    "    else:\n",
    "        return x\n",
    "print(fact_r(4))\n",
    "\n",
    "#no recursion\n",
    "def fact(x):\n",
    "    fact=1\n",
    "    while(x!=1):\n",
    "        fact*=x\n",
    "        x-=1\n",
    "    return(fact)\n",
    "print(fact(6))"
   ]
  },
  {
   "cell_type": "markdown",
   "metadata": {},
   "source": [
    "5\\. Use HOFs (zip in particular) to compute the weight of a circle, a disk and a sphere, assuming different radii and different densities:\n",
    "\n",
    "```python\n",
    "densities = {\"Al\":[0.5,1,2],\"Fe\":[3,4,5],\"Pb\": [15,20,30]}\n",
    "radii = [1,2,3]\n",
    "```\n",
    "\n",
    "where the entries of the dictionary's values are the linear, superficial and volumetric densities of the materials respectively.\n",
    "\n",
    "In particular define a list of three lambda functions using a comprehension that computes the circumference, the area and the volume for a given radius.\n"
   ]
  },
  {
   "cell_type": "code",
   "execution_count": 76,
   "metadata": {},
   "outputs": [
    {
     "name": "stdout",
     "output_type": "stream",
     "text": [
      "Radius:1 1D Al weight: 3.141592653589793\n",
      "Radius:1 1D Fe weight: 18.84955592153876\n",
      "Radius:1 1D Pb weight: 94.24777960769379\n",
      "Radius:1 2D Al weight: 12.566370614359172\n",
      "Radius:1 2D Fe weight: 50.26548245743669\n",
      "Radius:1 2D Pb weight: 251.32741228718345\n",
      "Radius:1 3D Al weight: 8.377580409572781\n",
      "Radius:1 3D Fe weight: 20.94395102393195\n",
      "Radius:1 3D Pb weight: 125.66370614359171\n",
      "Radius:2 1D Al weight: 6.283185307179586\n",
      "Radius:2 1D Fe weight: 37.69911184307752\n",
      "Radius:2 1D Pb weight: 188.49555921538757\n",
      "Radius:2 2D Al weight: 50.26548245743669\n",
      "Radius:2 2D Fe weight: 201.06192982974676\n",
      "Radius:2 2D Pb weight: 1005.3096491487338\n",
      "Radius:2 3D Al weight: 67.02064327658225\n",
      "Radius:2 3D Fe weight: 167.5516081914556\n",
      "Radius:2 3D Pb weight: 1005.3096491487337\n",
      "Radius:3 1D Al weight: 9.42477796076938\n",
      "Radius:3 1D Fe weight: 56.548667764616276\n",
      "Radius:3 1D Pb weight: 282.7433388230814\n",
      "Radius:3 2D Al weight: 113.09733552923255\n",
      "Radius:3 2D Fe weight: 452.3893421169302\n",
      "Radius:3 2D Pb weight: 2261.946710584651\n",
      "Radius:3 3D Al weight: 226.19467105846508\n",
      "Radius:3 3D Fe weight: 565.4866776461627\n",
      "Radius:3 3D Pb weight: 3392.920065876976\n"
     ]
    }
   ],
   "source": [
    "def square(x):\n",
    "    return x*x\n",
    "\n",
    "def cube(x):\n",
    "    return x*x*x\n",
    "\n",
    "densities = {\n",
    "    'Al': [0.5, 1, 2],\n",
    "    'Fe': [3, 4, 5],\n",
    "    'Pb': [15, 20, 30]\n",
    "}\n",
    "radii = [1,2,3]\n",
    "func=[lambda r:2*pi*r, lambda r: 4*pi*square(r), lambda r: 4/3*pi* cube(r)]\n",
    "\n",
    "for r in radii:\n",
    "    for x, dim in zip(func, range(3)):\n",
    "        for den in densities:\n",
    "            print (\"Radius:\"+ str(r)+\" \"+str(dim+1)+ \"D \"+den+\" weight: \" +str(x(r)*densities[den][dim]))"
   ]
  },
  {
   "cell_type": "markdown",
   "metadata": {},
   "source": [
    "6\\. Edit the class defintion to add an instance attribute of is_hungry = True to the Dog class. Then add a method called eat() which changes the value of is_hungry to False when called. Figure out the best way to feed each dog and then output “My dogs are hungry.” if all are hungry or “My dogs are not hungry.” if all are not hungry. The final output should look like this:\n",
    "\n",
    "`I have 3 dogs. \n",
    "Tom is 6. \n",
    "Fletcher is 7. \n",
    "Larry is 9. \n",
    "And they're all mammals, of course. \n",
    "My dogs are not hungry.\n",
    "`\n",
    "\n",
    "```python\n",
    "# Parent class\n",
    "class Dog:\n",
    "\n",
    "    # Class attribute\n",
    "    species = 'mammal'\n",
    "\n",
    "    # Initializer / Instance attributes\n",
    "    def __init__(self, name, age):\n",
    "        self.name = name\n",
    "        self.age = age\n",
    "\n",
    "    # instance method\n",
    "    def description(self):\n",
    "        return \"{} is {} years old\".format(self.name, self.age)\n",
    "\n",
    "    # instance method\n",
    "    def speak(self, sound):\n",
    "        return \"{} says {}\".format(self.name, sound)\n",
    "\n",
    "# Child class (inherits from Dog class)\n",
    "class RussellTerrier(Dog):\n",
    "    def run(self, speed):\n",
    "        return \"{} runs {}\".format(self.name, speed)\n",
    "\n",
    "# Child class (inherits from Dog class)\n",
    "class Bulldog(Dog):\n",
    "    def run(self, speed):\n",
    "        return \"{} runs {}\".format(self.name, speed)\n",
    "```"
   ]
  },
  {
   "cell_type": "code",
   "execution_count": 13,
   "metadata": {},
   "outputs": [],
   "source": [
    "# Parent class\n",
    "class Dog:\n",
    "\n",
    "    # Class attribute\n",
    "    species = 'mammal'\n",
    "    is_hungry=True\n",
    "    counter = 0\n",
    "\n",
    "    # Initializer / Instance attributes\n",
    "    def __init__(self, name, age):\n",
    "        self.name = name\n",
    "        self.age = age\n",
    "        Dog.counter+=1\n",
    "\n",
    "    # instance method\n",
    "    def description(self):\n",
    "        return \" {} is {} years old. \".format(self.name, self.age)\n",
    "\n",
    "    # instance method\n",
    "    def speak(self, sound):\n",
    "        return \"{} says {}\".format(self.name, sound)\n",
    "    \n",
    "    def spec(self):\n",
    "        return \"They are all {}, of course.\".format(Dog.species)\n",
    "    \n",
    "    def eat():\n",
    "        Dog.is_hungry=False\n",
    "\n",
    "# Child class (inherits from Dog class)\n",
    "class RussellTerrier(Dog):\n",
    "    def run(self, speed):\n",
    "        return \"{} runs {}\".format(self.name, speed)\n",
    "\n",
    "# Child class (inherits from Dog class)\n",
    "class Bulldog(Dog):\n",
    "    def run(self, speed):\n",
    "        return \"{} runs {}\".format(self.name, speed)"
   ]
  },
  {
   "cell_type": "code",
   "execution_count": 14,
   "metadata": {},
   "outputs": [
    {
     "name": "stdout",
     "output_type": "stream",
     "text": [
      "I have  3 dogs.   Tom is 6 years old.   Fletcher is 7 years old.   Larry is 9 years old.  They are all mammal, of course.\n",
      "My dogs are not hungry\n"
     ]
    }
   ],
   "source": [
    "puppy_1=Dog(\"Tom\",6)\n",
    "puppy_2=Dog(\"Fletcher\",7)\n",
    "puppy_3=Dog(\"Larry\",9)\n",
    "Dog.eat()\n",
    "print(\"I have \", Dog.counter, \"dogs. \", puppy_1.description(), puppy_2.description(), puppy_3.description(), puppy_1.spec())\n",
    "if Dog.is_hungry:\n",
    "    print(\"My dogs are hungry\")\n",
    "else:\n",
    "    print(\"My dogs are not hungry\")"
   ]
  },
  {
   "cell_type": "code",
   "execution_count": null,
   "metadata": {},
   "outputs": [],
   "source": []
  }
 ],
 "metadata": {
  "kernelspec": {
   "display_name": "Python 3 (ipykernel)",
   "language": "python",
   "name": "python3"
  },
  "language_info": {
   "codemirror_mode": {
    "name": "ipython",
    "version": 3
   },
   "file_extension": ".py",
   "mimetype": "text/x-python",
   "name": "python",
   "nbconvert_exporter": "python",
   "pygments_lexer": "ipython3",
   "version": "3.10.6"
  }
 },
 "nbformat": 4,
 "nbformat_minor": 2
}
